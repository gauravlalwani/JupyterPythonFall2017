{
 "cells": [
  {
   "cell_type": "markdown",
   "metadata": {},
   "source": [
    "<p style=\"text-align:center\">\n",
    "PSY 394U <b>Python Coding for Psychological Sciences</b>, Fall 2017\n",
    "\n",
    "<img src=\"https://www.python.org/static/community_logos/python-logo-master-v3-TM.png\" alt=\"Python logo\" width=\"200\">\n",
    "</p>\n",
    "\n",
    "<h1 style=\"text-align:center\"> Files </h1>\n",
    "\n",
    "<h4 style=\"text-align:center\"> October 12 - 19, 2017 </h4>\n",
    "<hr style=\"height:5px;border:none\" />\n",
    "<p>"
   ]
  },
  {
   "cell_type": "markdown",
   "metadata": {},
   "source": [
    "# 1. Directories, files, and paths\n",
    "<hr style=\"height:1px;border:none\" />"
   ]
  },
  {
   "cell_type": "markdown",
   "metadata": {},
   "source": [
    "### Path\n",
    "\n",
    "On a computer, files are organized under different directories. For example,\n",
    "\n",
    "<img src=\"https://github.com/sathayas/JupyterPythonFall2017/blob/master/images/File_Folders.png?raw=true\" alt=\"Python shell\" style=\"width: 500px; float: center;\"/>\n",
    "\n",
    "The document **`project.docx`** is under a directory (or folder) **`Documents`**, under a directory **`asweigart`**, under a folder **`Users`**, under the drive **`C:\\`**. The file and all the directories leading up to the file can be addressed by\n",
    "```\n",
    "C:\\Users\\asweigart\\Documents\\project.docx\n",
    "```\n",
    "This notation is known as a **file path**. This type of path is used by Windows computers. For Mac OS X and Linux, let’s say the file `project.docx` is located under a directory **`Documents`**, under a directory **`hayasaka`**, under a directory **`Users`**, under the root directory **`/`**. The path to this file is denoted as\n",
    "```\n",
    "/Users/hayasaka/Documents/project.docx\n",
    "```\n",
    "\n",
    "### Creating a path with `os.path.join()`\n",
    "\n",
    "On Windows, a backslash (`\\`) is used between directories on a path, whereas a slash (`/`) is used on Mac OS X and Linux computers. If you are writing a Python program that can be ran on any platform, then we can use **`os.path.join()`** function to create a path. The `path.join()` function is in a module **`os`**. \n",
    "\n",
    "Here is an example to demonstrate the use of `os.path.join()`."
   ]
  },
  {
   "cell_type": "markdown",
   "metadata": {},
   "source": [
    "`<OsPathJoin.py>`"
   ]
  },
  {
   "cell_type": "code",
   "execution_count": 2,
   "metadata": {},
   "outputs": [
    {
     "name": "stdout",
     "output_type": "stream",
     "text": [
      "Some_home_directory/sub001/congruent.txt\n",
      "Some_home_directory/sub001/incongruent.txt\n",
      "Some_home_directory/sub001/mixed.txt\n",
      "Some_home_directory/sub003/congruent.txt\n",
      "Some_home_directory/sub003/incongruent.txt\n",
      "Some_home_directory/sub003/mixed.txt\n",
      "Some_home_directory/sub005/congruent.txt\n",
      "Some_home_directory/sub005/incongruent.txt\n",
      "Some_home_directory/sub005/mixed.txt\n"
     ]
    }
   ],
   "source": [
    "# import the os module\n",
    "import os\n",
    "\n",
    "# Home directory\n",
    "homeDir = 'Some_home_directory'\n",
    "# Directories for subjects \n",
    "subjects = ['sub001', 'sub003', 'sub005']\n",
    "# Experiment outcome data files\n",
    "expData = ['congruent.txt', 'incongruent.txt', 'mixed.txt']\n",
    "\n",
    "for iSubj in subjects:\n",
    "    for iExp in expData:\n",
    "        dataFullPath = os.path.join(homeDir, iSubj, iExp)\n",
    "        print(dataFullPath)"
   ]
  },
  {
   "cell_type": "markdown",
   "metadata": {},
   "source": [
    "You may have a different output, depending on your computer's OS."
   ]
  }
 ],
 "metadata": {
  "kernelspec": {
   "display_name": "Python 3",
   "language": "python",
   "name": "python3"
  },
  "language_info": {
   "codemirror_mode": {
    "name": "ipython",
    "version": 3
   },
   "file_extension": ".py",
   "mimetype": "text/x-python",
   "name": "python",
   "nbconvert_exporter": "python",
   "pygments_lexer": "ipython3",
   "version": "3.5.1"
  }
 },
 "nbformat": 4,
 "nbformat_minor": 2
}
