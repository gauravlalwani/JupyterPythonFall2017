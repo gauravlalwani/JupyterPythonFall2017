{
 "cells": [
  {
   "cell_type": "markdown",
   "metadata": {},
   "source": [
    "<center>\n",
    "PSY 394U <b>Python Coding for Psychological Sciences</b>, Fall 2017\n",
    "<p>\n",
    "<img src=\"https://www.python.org/static/community_logos/python-logo-master-v3-TM.png\" alt=\"Python logo\" width=\"200\">\n",
    "\n",
    "<h1> Introduction & Hello World </h1>\n",
    "\n",
    "<h4> August 31, 2017 </h4>\n",
    "<center />\n",
    "<hr style=\"height:5px;border:none\" />\n",
    "<p>"
   ]
  },
  {
   "cell_type": "markdown",
   "metadata": {},
   "source": [
    "# 1. Introduction\n",
    "<hr style=\"height:1px;border:none\" />"
   ]
  },
  {
   "cell_type": "markdown",
   "metadata": {},
   "source": [
    "## Disclaimer\n",
    "\n",
    "This course is designed for students without much prior programming experience. So I plan to cover very basic materials on simple programming, and possibly some topics pertinent to psychology studies (an emphasis on numerical data). Thus, if you have extensive prior programming experience or if you are looking for advanced materials on particular aspects of Python, this class may be too rudimentary for you. I have noticed that students with some prior programming experience tend to be bored and unhappy with this course because it is too easy and slow for them. I have also noticed that students familiar with another programming language can learn Python syntax on their own much quicker than attending a semester-long course. \n",
    "\n",
    "Please make sure this is the right course for you!"
   ]
  },
  {
   "cell_type": "markdown",
   "metadata": {},
   "source": [
    "## Computer programming overview\n",
    "\n",
    "Modern computers often consist of two parts:\n",
    "* ***CPU (central processing unit)***\n",
    "    * The main component of a computer\n",
    "    * Actual computing takes place\n",
    "\n",
    "<p>\n",
    "\n",
    "* ***Instructions***\n",
    "    * The CPU performs computations based on these instructions\n",
    "    * Also known as programs, software, codes, scripts, apps, etc.\n",
    "    * Commercially available ones\n",
    "        * E.g., Microsoft Word, Firefox, SPSS, iTunes, …\n",
    "    * Shared among communities\n",
    "        * E.g., R, GitHub, SourceForge, ...\n",
    "    * Programming or coding to meet your specific needs\n",
    "         * A series of instructions (or codes) in a particular programming language.\n",
    "\n",
    "*The terms **programming** and **coding** are often used interchangeably. Both refer to writing of computer programs or codes (short for source codes).*\n"
   ]
  },
  {
   "cell_type": "markdown",
   "metadata": {},
   "source": [
    "## Why Python?\n",
    "\n",
    "Why should we learn Python instead of other programming languages?\n",
    "* It’s freely available. \n",
    "* Other people are using Python\n",
    "    * Easy to share programs\n",
    "* Easy to read and write\n",
    "* Modules can be added for specific purposes\n",
    "    * Numpy: Handling of numerical arrays\n",
    "    * Scipy: A collection of scientific functions\n",
    "    * MatPlotLib: Data visualization such as graphs and plots\n",
    "    * Pandas: Handling of data frames"
   ]
  },
  {
   "cell_type": "markdown",
   "metadata": {},
   "source": [
    "## Some advice on programming\n",
    "* Computers take things literally\n",
    "    * They don’t say “did you mean…?” An error is an error.\n",
    "* Ask for help\n",
    "    * Others may have the same questions as you do\n",
    "        * StackOverflow.com : A collection of programming related questions and answers by experts.\n",
    "    * And when you ask for help, try to articulate the problem with as much details as possible.\n",
    "* Try to help others\n",
    "    * For some, this class is extremely easy\n",
    "    * Another way to learn is to help others\n",
    "* Even experienced programmers face challenges\n",
    "    * Take a deep breath.\n",
    "* Learn from programs other people have written\n",
    "    * Modifying programs to fit you needs. The original use of the term “hack.”"
   ]
  },
  {
   "cell_type": "markdown",
   "metadata": {},
   "source": [
    "# 2. Python shell and editor \n",
    "<hr style=\"height:1px;border:none\" />"
   ]
  },
  {
   "cell_type": "markdown",
   "metadata": {},
   "source": [
    "Tools for writing and running Python programs:\n",
    "* **Python shell**\n",
    "    * Also known as a Python interpreter. Often a text-based window where you type Python commands. This is where Python commands and programs are **executed** or **run**.\n",
    "* **Editor**\n",
    "    * A word processor specialized in writing Python programs\n",
    "    \n",
    "I will demonstrate the IDLE (interactive development environment) today. If you are using a computer in the classroom, you should be able to find it under **Applications**$\\rightarrow$** Python 3.5**$\\rightarrow$**IDLE**.\n",
    "\n",
    "<center>\n",
    "<img src=\"https://github.com/sathayas/JupyterPythonFall2017/blob/master/images/IDLE_Shell.png?raw=true\" alt=\"Python shell\" width=\"400\">\n",
    "<b>Python shell</b>\n",
    "<p>\n",
    "</center>\n",
    "\n",
    "<center>\n",
    "<img src=\"https://github.com/sathayas/JupyterPythonFall2017/blob/master/images/IDLE_Editor.png?raw=true\" alt=\"Python shell\" width=\"400\">\n",
    "<b>Editor</b>\n",
    "</center>\n",
    "\n",
    "<p>\n",
    "\n",
    "If you are interested in installing Python IDLE on your computer (Mac, Windows,\n",
    "or Linux), you can download it from http://python.org/downloads/ . Make sure to\n",
    "download Python 3.5.\n",
    "\n",
    "Alternatively, there are other third-party distributions of Python out there, and\n",
    "some of them are free (e.g., Anaconda, Enthought Canopy). These distributions\n",
    "may include a more user-friendly editor.\n",
    "\n",
    "You can also run Python on the Terminal app on Mac or Command Prompt on Windows, by typing the command **`python3`**. Personally, I like to use IPython on a Terminal app as a Python shell. IPython allows copying and pasting of codes, thus you can run snippets of a program. Depending on the installation, you can start IPython by typing the command **`ipython`**.\n",
    "<p>\n",
    "\n",
    "<center>\n",
    "<img src=\"https://github.com/sathayas/JupyterPythonFall2017/blob/master/images/IPython_Shell.png?raw=true\" alt=\"Python shell\" width=\"400\">\n",
    "<b>IPython shell</b>\n",
    "</center>\n",
    "\n"
   ]
  },
  {
   "cell_type": "markdown",
   "metadata": {},
   "source": [
    "# 3. Hello World\n",
    "<hr style=\"height:1px;border:none\" />"
   ]
  },
  {
   "cell_type": "markdown",
   "metadata": {},
   "source": [
    "## Typing a command\n",
    "\n",
    "Now let’s play with Python a little bit. Start the Python IDLE. In the Python shell\n",
    "window, you should see a prompt ``>>>``. You can type in a command (or one line\n",
    "of program) at the prompt. Try this:"
   ]
  },
  {
   "cell_type": "code",
   "execution_count": null,
   "metadata": {},
   "outputs": [],
   "source": [
    "print('Hello World')"
   ]
  },
  {
   "cell_type": "markdown",
   "metadata": {},
   "source": [
    "And hit the enter key. What happens next? The **`print`** command prints out\n",
    "inside the brackets **`()`**."
   ]
  },
  {
   "cell_type": "markdown",
   "metadata": {},
   "source": [
    "### Exercise\n",
    "1. Change the word **`World`** to your name in the print command above, and run it. What happens next?\n",
    "2. Change the single quotation marks (**`'`**) to double quotation marks (**`\"`**). Does the command still run?\n",
    "3. Drop the quotation marks from the command. Does it still run?"
   ]
  },
  {
   "cell_type": "markdown",
   "metadata": {},
   "source": [
    "You may have seen your first error message:\n",
    "\n",
    "**`SyntaxError: invalid syntax`**\n",
    "\n",
    "This means the command you typed in does not conform to the standard syntax\n",
    "of Python. In other words, your command was grammatically incorrect\n",
    "(figuratively speaking). When we encounter an error (a.k.a., bug), we debug the\n",
    "problem.\n",
    "\n",
    "In this case, dropping quotation marks was causing the problem. You type the\n",
    "command with quotations marks and it should run again.\n",
    "Now, this time, let’s try these two commands."
   ]
  },
  {
   "cell_type": "code",
   "execution_count": null,
   "metadata": {},
   "outputs": [],
   "source": [
    "yourname = 'Satoru'\n",
    "print('Hello ' + yourname)"
   ]
  },
  {
   "cell_type": "markdown",
   "metadata": {},
   "source": [
    "In this case, your name is stored in a variable called **`yourname`**, and it was\n",
    "concatenated after **`'Hello '`** in the print command. You can also\n",
    "concatenate exclamation marks by\n"
   ]
  },
  {
   "cell_type": "code",
   "execution_count": null,
   "metadata": {},
   "outputs": [],
   "source": [
    "print('Hello ' + yourname + '!!!')"
   ]
  },
  {
   "cell_type": "markdown",
   "metadata": {},
   "source": [
    "We will talk more about variables in the next class."
   ]
  },
  {
   "cell_type": "markdown",
   "metadata": {},
   "source": [
    "### Exercise\n",
    "1. Change the variable yourname to include your full name. Then run the **`print`** command. What happens?"
   ]
  },
  {
   "cell_type": "markdown",
   "metadata": {},
   "source": [
    "## Writing a program\n",
    "\n",
    "So far, we’ve run a few commands. But let’s say you want to do something\n",
    "slightly more complicated. Open the program editor by selecting **File**$\\rightarrow$**New\n",
    "File**. In the editor, type this simple program:"
   ]
  },
  {
   "cell_type": "raw",
   "metadata": {},
   "source": [
    "<HelloWorld.py>"
   ]
  },
  {
   "cell_type": "code",
   "execution_count": null,
   "metadata": {},
   "outputs": [],
   "source": [
    "print(\"Hello World!\")\n",
    "yourname = 'Satoru'\n",
    "print(\"Hello, \" + yourname + \"!!\")"
   ]
  },
  {
   "cell_type": "markdown",
   "metadata": {},
   "source": [
    "After you are done, from the menu, select **Run**$\\rightarrow$**Run Module**. This probably\n",
    "asks you to save the program. Let’s save this program as **`HelloWorld.py`**.\n",
    "Then the program should run. In other words, all the commands in this program\n",
    "run at once. What output do you see?\n",
    "\n",
    "One benefit of writing a program is that you don’t have to re-type everything. All\n",
    "you need to do is to change the part you want to modify."
   ]
  },
  {
   "cell_type": "markdown",
   "metadata": {},
   "source": [
    "### Exercise\n",
    "1. Change the variable **`yourname`** to your last name. Then run the program again.\n",
    "2. Change the variable **`yourname`** to your full name. Then run the program again."
   ]
  },
  {
   "cell_type": "markdown",
   "metadata": {},
   "source": [
    "## One last edit\n",
    "Now, in the **`HelloWorld.py`** program, make the following change to the\n",
    "statement for the variable yourname.\n",
    "\n",
    "```python\n",
    "yourname = input('What is your name? ')\n",
    "```\n",
    "\n",
    "This time, we are using the **`input`** function. That means you can enter your\n",
    "name from the keyboard. The program waits for the user to input a name. Once\n",
    "something is entered, then the program continues."
   ]
  },
  {
   "cell_type": "markdown",
   "metadata": {},
   "source": [
    "### Exercise\n",
    "1. Create another program in the editor by selecting **File**$\\rightarrow$**New File** from the menu. Then write the following program and run. What is the output?\n",
    "<br>`<HelloName.py>`\n",
    "```python\n",
    "firstname = input('What is your first name? ')\n",
    "lastname = input('What is your last name? ')\n",
    "print('You are ' + firstname + lastname)\n",
    "```\n",
    "2. There is no space between your first name and last name. How can you put a space between them?\n"
   ]
  }
 ],
 "metadata": {
  "kernelspec": {
   "display_name": "Python 3",
   "language": "python",
   "name": "python3"
  },
  "language_info": {
   "codemirror_mode": {
    "name": "ipython",
    "version": 3
   },
   "file_extension": ".py",
   "mimetype": "text/x-python",
   "name": "python",
   "nbconvert_exporter": "python",
   "pygments_lexer": "ipython3",
   "version": "3.4.5"
  }
 },
 "nbformat": 4,
 "nbformat_minor": 2
}
