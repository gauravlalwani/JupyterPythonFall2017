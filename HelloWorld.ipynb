{
 "cells": [
  {
   "cell_type": "markdown",
   "metadata": {},
   "source": [
    "PSY 394U: **Python Coding for Psychological Sciences**, Fall 2017\n",
    "\n",
    "# ** Introduction & Hello World **\n",
    "\n",
    "August 31, 2017\n",
    "\n",
    "![](https://www.python.org/static/community_logos/python-logo-master-v3-TM.png \"Python logo\")"
   ]
  },
  {
   "cell_type": "markdown",
   "metadata": {},
   "source": [
    "## 1. Introduction"
   ]
  },
  {
   "cell_type": "markdown",
   "metadata": {},
   "source": [
    "### Disclaimer\n",
    "\n",
    "This course is designed for students without much prior programming experience. So I plan to cover very basic materials on simple programming, and possibly some topics pertinent to psychology studies (an emphasis on numerical data). Thus, if you have extensive prior programming experience or if you are looking for advanced materials on particular aspects of Python, this class may be too rudimentary for you. I have noticed that students with some prior programming experience tend to be bored and unhappy with this course because it is too easy and slow for them. I have also noticed that students familiar with another programming language can learn Python syntax on their own much quicker than attending a semester-long course. \n",
    "\n",
    "Please make sure this is the right course for you!"
   ]
  },
  {
   "cell_type": "markdown",
   "metadata": {},
   "source": [
    "### Computer programming overview\n",
    "\n",
    "Modern computers often consist of two parts:\n",
    "* ***CPU (central processing unit)***\n",
    "    * The main component of a computer\n",
    "    * Actual computing takes place\n",
    "\n",
    "* ***Instructions***\n",
    "    * The CPU performs computations based on these instructions\n",
    "    * Also known as programs, software, codes, scripts, apps, etc.\n",
    "    * Commercially available ones\n",
    "        * E.g., Microsoft Word, Firefox, SPSS, iTunes, …\n",
    "    * Programming or coding to meet your specific needs\n",
    "         * A series of instructions (or codes) in a particular programming language.\n",
    "\n",
    "*The terms **programming** and **coding** are often used interchangeably. Both refer to writing of computer programs or codes (short for source codes).*\n"
   ]
  },
  {
   "cell_type": "markdown",
   "metadata": {},
   "source": [
    "### Why Python?\n",
    "\n",
    "Why should we learn Python instead of other programming languages?\n",
    "* It’s freely available. \n",
    "* Other people are using Python\n",
    "    * Easy to share programs\n",
    "* Easy to read and write\n",
    "* Modules can be added for specific purposes\n",
    "    * Numpy: Handling of numerical arrays\n",
    "    * Scipy: A collection of scientific functions\n",
    "    * MatPlotLib: Data visualization such as graphs and plots\n",
    "    * Pandas: Handling of data frames"
   ]
  },
  {
   "cell_type": "markdown",
   "metadata": {},
   "source": [
    "## 2. Python shell and editor "
   ]
  },
  {
   "cell_type": "markdown",
   "metadata": {},
   "source": [
    "Tools for writing and running Python programs:\n",
    "* **Python shell**\n",
    "    * Also known as a Python interpreter. Often a text-based window where you type Python commands. This is where Python commands and programs are **executed** or **run**.\n",
    "* **Editor**\n",
    "    * A word processor specialized in writing Python programs\n",
    "    \n",
    "I will demonstrate the IDLE (interactive development environment) today. If you are using a computer in the classroom, you should be able to find it under **Applications**$\\rightarrow$** Python 3.5**$\\rightarrow$**IDLE**.\n"
   ]
  }
 ],
 "metadata": {
  "kernelspec": {
   "display_name": "Python 3",
   "language": "python",
   "name": "python3"
  },
  "language_info": {
   "codemirror_mode": {
    "name": "ipython",
    "version": 3
   },
   "file_extension": ".py",
   "mimetype": "text/x-python",
   "name": "python",
   "nbconvert_exporter": "python",
   "pygments_lexer": "ipython3",
   "version": "3.4.5"
  }
 },
 "nbformat": 4,
 "nbformat_minor": 2
}
