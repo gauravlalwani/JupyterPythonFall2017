{
 "cells": [
  {
   "cell_type": "markdown",
   "metadata": {},
   "source": [
    "<p style=\"text-align:center\">\n",
    "PSY 394U <b>Python Coding for Psychological Sciences</b>, Fall 2017\n",
    "\n",
    "<img src=\"https://www.python.org/static/community_logos/python-logo-master-v3-TM.png\" alt=\"Python logo\" width=\"200\">\n",
    "</p>\n",
    "\n",
    "<h1 style=\"text-align:center\"> For loop </h1>\n",
    "\n",
    "<h4 style=\"text-align:center\"> September 14 - 19, 2017 </h4>\n",
    "<hr style=\"height:5px;border:none\" />\n",
    "<p>"
   ]
  },
  {
   "cell_type": "markdown",
   "metadata": {},
   "source": [
    "# 1. For loop basic\n",
    "<hr style=\"height:1px;border:none\" />"
   ]
  },
  {
   "cell_type": "markdown",
   "metadata": {},
   "source": [
    "During the last class, we learned how to use a `while` loop to execute something repeatedly as long as a certain condition is satisfied. What if you simply want to repeat something for a number of times? We can use a `while` loop."
   ]
  },
  {
   "cell_type": "markdown",
   "metadata": {},
   "source": [
    "`<RepeatWithWhile.py>`"
   ]
  },
  {
   "cell_type": "code",
   "execution_count": null,
   "metadata": {
    "collapsed": true
   },
   "outputs": [],
   "source": [
    "counter = 10\n",
    "while counter>0:\n",
    "    print('Are we there yet?')\n",
    "    counter = counter - 1"
   ]
  },
  {
   "cell_type": "markdown",
   "metadata": {},
   "source": [
    "In this program, there is a variable called **`counter`**. It keeps track of how many times the block inside the `while` loop have been executed. Notice that we have to update `counter` every time the block is executed. This type of operation is fairly common, and people use a **`for`** loop for that purpose.\n",
    "```python\n",
    "for [variable name] in range([a sequence of the variable]):\n",
    "\t[Execute some stuff]\n",
    "```\n",
    "Here is a simple example:"
   ]
  },
  {
   "cell_type": "markdown",
   "metadata": {},
   "source": [
    "`<AreWeThereYet.py>`"
   ]
  },
  {
   "cell_type": "code",
   "execution_count": null,
   "metadata": {
    "collapsed": true
   },
   "outputs": [],
   "source": [
    "for i in range(10):\n",
    "    print('Are we there yet?')"
   ]
  },
  {
   "cell_type": "markdown",
   "metadata": {},
   "source": [
    "This program prints out \"Are we there yet?\" 10 times. In this program, the **`range`** function (**`range(10)`**) tells that this loop is repeated 10 times. The value of the variable **`i`** is updated automatically every time the loop is run. You can also use the variable `i` inside the for loop. For example,"
   ]
  },
  {
   "cell_type": "markdown",
   "metadata": {},
   "source": [
    "`<Variable_i.py>`"
   ]
  },
  {
   "cell_type": "code",
   "execution_count": null,
   "metadata": {
    "collapsed": true
   },
   "outputs": [],
   "source": [
    "for i in range(10):\n",
    "    print('The value of the variable i is ' + str(i))"
   ]
  },
  {
   "cell_type": "markdown",
   "metadata": {},
   "source": [
    "produces\n",
    "```\n",
    "The value of the variable i is 0\n",
    "The value of the variable i is 1\n",
    "The value of the variable i is 2\n",
    "The value of the variable i is 3\n",
    "The value of the variable i is 4\n",
    "The value of the variable i is 5\n",
    "The value of the variable i is 6\n",
    "The value of the variable i is 7\n",
    "The value of the variable i is 8\n",
    "The value of the variable i is 9\n",
    "```\n",
    "This means that the `range(10)` function produces numbers between 0 and 9 in a sequence. The value of `i` inside the `for` loop reflects this sequence.\n",
    "\n",
    "Here is another interesting example:"
   ]
  },
  {
   "cell_type": "markdown",
   "metadata": {},
   "source": [
    "`<Stars.py>`"
   ]
  },
  {
   "cell_type": "code",
   "execution_count": null,
   "metadata": {
    "collapsed": true
   },
   "outputs": [],
   "source": [
    "for i in range(10):\n",
    "    print(\"*\" * i)"
   ]
  },
  {
   "cell_type": "markdown",
   "metadata": {},
   "source": [
    "produces"
   ]
  },
  {
   "cell_type": "markdown",
   "metadata": {},
   "source": [
    "```\n",
    "*\n",
    "**\n",
    "***\n",
    "****\n",
    "*****\n",
    "******\n",
    "*******\n",
    "********\n",
    "*********\n",
    "```\n",
    "\n",
    "You can also do a mathematical operation inside the `for` loop."
   ]
  },
  {
   "cell_type": "markdown",
   "metadata": {},
   "source": [
    "`<Balance.py>`"
   ]
  },
  {
   "cell_type": "code",
   "execution_count": null,
   "metadata": {
    "collapsed": true
   },
   "outputs": [],
   "source": [
    "balance = 1000\n",
    "interest = 0.06\n",
    "for i in range(30):\n",
    "    balance = balance * (1+interest)\n",
    "    print('The balance for this year is $' + str(balance))"
   ]
  },
  {
   "cell_type": "markdown",
   "metadata": {},
   "source": [
    "This program shows how saving of `$`1000 grows over 30 years at the interest rate of 6%. "
   ]
  },
  {
   "cell_type": "markdown",
   "metadata": {},
   "source": [
    "### Exercise\n",
    "1. **Allowance**. A teenager tells his parents that he is OK with `$`1 as his allowance for this month. However, he asks that the allowance to be doubled every month. In other words, `$`1 this month, `$`2 next month, `$`4 the following month, and so on. Write a program with a for loop to calculate his allowances for the next 2 years."
   ]
  },
  {
   "cell_type": "markdown",
   "metadata": {},
   "source": [
    "# 2. More on `range()` function\n",
    "<hr style=\"height:1px;border:none\" />"
   ]
  },
  {
   "cell_type": "markdown",
   "metadata": {},
   "source": [
    "The function **`range(X)`** generates a sequence of numbers 0, 1, 2, ..., `X-1` for a `for` loop. You can see this using the **`list()`** function."
   ]
  },
  {
   "cell_type": "code",
   "execution_count": 6,
   "metadata": {},
   "outputs": [
    {
     "data": {
      "text/plain": [
       "[0, 1, 2, 3, 4, 5, 6, 7]"
      ]
     },
     "execution_count": 6,
     "metadata": {},
     "output_type": "execute_result"
    }
   ],
   "source": [
    "list(range(8))"
   ]
  },
  {
   "cell_type": "markdown",
   "metadata": {},
   "source": [
    "You can also customize the sequence in a `range()` function. You can specify the starting value (`X`) and the ending value (`Y`) as `range(X, Y)`."
   ]
  },
  {
   "cell_type": "code",
   "execution_count": 7,
   "metadata": {},
   "outputs": [
    {
     "data": {
      "text/plain": [
       "[10, 11, 12, 13, 14, 15, 16, 17, 18, 19]"
      ]
     },
     "execution_count": 7,
     "metadata": {},
     "output_type": "execute_result"
    }
   ],
   "source": [
    "list(range(10,20))"
   ]
  },
  {
   "cell_type": "markdown",
   "metadata": {},
   "source": [
    "As you may notice, the `range` function does not produce the ending value (20 in this case), but one prior to that (19 in this case).\n",
    "\n",
    "You can also specify the step (`Z`) between the numbers in a sequence in a `range` function, by `range(X, Y, Z)`."
   ]
  },
  {
   "cell_type": "code",
   "execution_count": 8,
   "metadata": {},
   "outputs": [
    {
     "data": {
      "text/plain": [
       "[10, 20, 30, 40, 50, 60]"
      ]
     },
     "execution_count": 8,
     "metadata": {},
     "output_type": "execute_result"
    }
   ],
   "source": [
    "list(range(10, 65, 10))"
   ]
  },
  {
   "cell_type": "markdown",
   "metadata": {},
   "source": [
    "The following program generates a list of leap years between 2016 and 2050. "
   ]
  },
  {
   "cell_type": "markdown",
   "metadata": {},
   "source": [
    "`<LeapYear.py>`"
   ]
  },
  {
   "cell_type": "code",
   "execution_count": null,
   "metadata": {
    "collapsed": true
   },
   "outputs": [],
   "source": [
    "for i in range(2016, 2051, 4):\n",
    "    print('Year ' + str(i) + ' is a leap year')"
   ]
  },
  {
   "cell_type": "markdown",
   "metadata": {},
   "source": [
    "You can also use a negative number for the step. If that is the case, the ending value has to be smaller than the starting value. "
   ]
  },
  {
   "cell_type": "code",
   "execution_count": 2,
   "metadata": {},
   "outputs": [
    {
     "data": {
      "text/plain": [
       "[10, 9, 8, 7, 6, 5, 4, 3, 2, 1, 0]"
      ]
     },
     "execution_count": 2,
     "metadata": {},
     "output_type": "execute_result"
    }
   ],
   "source": [
    "list(range(10,-1,-1))"
   ]
  },
  {
   "cell_type": "markdown",
   "metadata": {},
   "source": [
    "The following program shows the number of quarters left after each load of laundry at a Laundromat."
   ]
  },
  {
   "cell_type": "markdown",
   "metadata": {},
   "source": [
    "`<Laundry.py>`"
   ]
  },
  {
   "cell_type": "code",
   "execution_count": null,
   "metadata": {},
   "outputs": [],
   "source": [
    "qStart = 40  # You start from a roll of quarters ($10)\n",
    "qStep = -7  # it costs you 7 quarters to run a wash & dry cycle\n",
    "qStop = -1  # you have to stop after you run out of quarters\n",
    "for iCoin in range(qStart, qStop, qStep):\n",
    "    print('You have ' + str(iCoin) + ' quarters.')"
   ]
  },
  {
   "cell_type": "markdown",
   "metadata": {},
   "source": [
    "Notice that this program stops before all the quarters are used. "
   ]
  }
 ],
 "metadata": {
  "kernelspec": {
   "display_name": "Python 3",
   "language": "python",
   "name": "python3"
  },
  "language_info": {
   "codemirror_mode": {
    "name": "ipython",
    "version": 3
   },
   "file_extension": ".py",
   "mimetype": "text/x-python",
   "name": "python",
   "nbconvert_exporter": "python",
   "pygments_lexer": "ipython3",
   "version": "3.5.1"
  }
 },
 "nbformat": 4,
 "nbformat_minor": 2
}
