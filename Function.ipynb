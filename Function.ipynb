{
 "cells": [
  {
   "cell_type": "markdown",
   "metadata": {},
   "source": [
    "<p style=\"text-align:center\">\n",
    "PSY 394U <b>Python Coding for Psychological Sciences</b>, Fall 2017\n",
    "\n",
    "<img src=\"https://www.python.org/static/community_logos/python-logo-master-v3-TM.png\" alt=\"Python logo\" width=\"200\">\n",
    "</p>\n",
    "\n",
    "<h1 style=\"text-align:center\"> Functions </h1>\n",
    "\n",
    "<h4 style=\"text-align:center\"> September 21 - 26, 2017 </h4>\n",
    "<hr style=\"height:5px;border:none\" />\n",
    "<p>"
   ]
  },
  {
   "cell_type": "markdown",
   "metadata": {},
   "source": [
    "# 1. Simple function\n",
    "<hr style=\"height:1px;border:none\" />"
   ]
  },
  {
   "cell_type": "markdown",
   "metadata": {},
   "source": [
    "Python has a number of built-in functions, such as `print()`, `range()`, `int()`,\n",
    "and `str()`, to name a few. You can write your own functions as well. Such\n",
    "functions are useful if you want to repeat the same process over and over again.\n",
    "To write a function, you start out with a **`def`** statement, followed by a function\n",
    "name, and a block of codes inside the function.\n",
    "```python\n",
    "def [function name]:\n",
    "    [Code block to be executed]\n",
    "```\n",
    "Here is a simple example."
   ]
  },
  {
   "cell_type": "markdown",
   "metadata": {},
   "source": [
    "`<HelloWorld.py>`"
   ]
  },
  {
   "cell_type": "code",
   "execution_count": 2,
   "metadata": {},
   "outputs": [
    {
     "name": "stdout",
     "output_type": "stream",
     "text": [
      "Hello World!\n",
      "Hello World!\n",
      "Hello World!\n"
     ]
    }
   ],
   "source": [
    "def HelloWorld():\n",
    "    print('Hello World!')\n",
    "\n",
    "HelloWorld()\n",
    "HelloWorld()\n",
    "HelloWorld()"
   ]
  },
  {
   "cell_type": "markdown",
   "metadata": {},
   "source": [
    "Like `if`, `while`, and `for` statements, a **`def`** statement has to end with a colon\n",
    "(`:`). The function above, **`HelloWorld()`**, prints out a message \"Hello World!\" every time it is run (or often referred as *called*)."
   ]
  }
 ],
 "metadata": {
  "kernelspec": {
   "display_name": "Python 3",
   "language": "python",
   "name": "python3"
  },
  "language_info": {
   "codemirror_mode": {
    "name": "ipython",
    "version": 3
   },
   "file_extension": ".py",
   "mimetype": "text/x-python",
   "name": "python",
   "nbconvert_exporter": "python",
   "pygments_lexer": "ipython3",
   "version": "3.4.5"
  }
 },
 "nbformat": 4,
 "nbformat_minor": 2
}
