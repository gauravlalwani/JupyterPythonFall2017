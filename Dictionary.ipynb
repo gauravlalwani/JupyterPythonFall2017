{
 "cells": [
  {
   "cell_type": "markdown",
   "metadata": {},
   "source": [
    "<p style=\"text-align:center\">\n",
    "PSY 394U <b>Python Coding for Psychological Sciences</b>, Fall 2017\n",
    "\n",
    "<img src=\"https://www.python.org/static/community_logos/python-logo-master-v3-TM.png\" alt=\"Python logo\" width=\"200\">\n",
    "</p>\n",
    "\n",
    "<h1 style=\"text-align:center\"> Dictionaries </h1>\n",
    "\n",
    "<h4 style=\"text-align:center\"> October 5, 2017 </h4>\n",
    "<hr style=\"height:5px;border:none\" />\n",
    "<p>"
   ]
  },
  {
   "cell_type": "markdown",
   "metadata": {},
   "source": [
    "# 1. What is a dictionary?\n",
    "<hr style=\"height:1px;border:none\" />"
   ]
  },
  {
   "cell_type": "markdown",
   "metadata": {},
   "source": [
    "A **dictionary** is like a list. But unlike a list whose items are indexed by a number, we can refer items in a dictionary with **keys**. Here is an example of a dictionary."
   ]
  },
  {
   "cell_type": "code",
   "execution_count": 1,
   "metadata": {
    "collapsed": true
   },
   "outputs": [],
   "source": [
    "dinner = { 'salad':'cobb', 'entree':'mahi mahi', 'dessert':'ice cream'}"
   ]
  },
  {
   "cell_type": "markdown",
   "metadata": {},
   "source": [
    "Each item is a pair of a **key** and a **value**, separated by a colon (`:`). Items are separated by commas (`,`) like a list. And the entire dictionary is contained in braces `{}`. \n",
    "\n",
    "The dictionary dinner has keys `'salad'`, `'entree'`, and `'dessert'`. The corresponding values are `'cobb`', `'mahi mahi'`, and `'ice cream'`, respectively. \n",
    "\n",
    "You can refer an item by its key. For example,"
   ]
  },
  {
   "cell_type": "code",
   "execution_count": 2,
   "metadata": {},
   "outputs": [
    {
     "data": {
      "text/plain": [
       "'cobb'"
      ]
     },
     "execution_count": 2,
     "metadata": {},
     "output_type": "execute_result"
    }
   ],
   "source": [
    "dinner['salad']"
   ]
  },
  {
   "cell_type": "code",
   "execution_count": 3,
   "metadata": {},
   "outputs": [
    {
     "data": {
      "text/plain": [
       "'mahi mahi'"
      ]
     },
     "execution_count": 3,
     "metadata": {},
     "output_type": "execute_result"
    }
   ],
   "source": [
    "dinner['entree']"
   ]
  },
  {
   "cell_type": "markdown",
   "metadata": {},
   "source": [
    "But you cannot refer them by indices."
   ]
  },
  {
   "cell_type": "code",
   "execution_count": 4,
   "metadata": {},
   "outputs": [
    {
     "ename": "KeyError",
     "evalue": "0",
     "output_type": "error",
     "traceback": [
      "\u001b[0;31m---------------------------------------------------------------------------\u001b[0m",
      "\u001b[0;31mKeyError\u001b[0m                                  Traceback (most recent call last)",
      "\u001b[0;32m<ipython-input-4-7be8cc8bb61e>\u001b[0m in \u001b[0;36m<module>\u001b[0;34m()\u001b[0m\n\u001b[0;32m----> 1\u001b[0;31m \u001b[0mdinner\u001b[0m\u001b[0;34m[\u001b[0m\u001b[0;36m0\u001b[0m\u001b[0;34m]\u001b[0m\u001b[0;34m\u001b[0m\u001b[0m\n\u001b[0m",
      "\u001b[0;31mKeyError\u001b[0m: 0"
     ]
    }
   ],
   "source": [
    "dinner[0]"
   ]
  },
  {
   "cell_type": "markdown",
   "metadata": {},
   "source": [
    "You can have numbers as keys."
   ]
  },
  {
   "cell_type": "code",
   "execution_count": 5,
   "metadata": {
    "collapsed": true
   },
   "outputs": [],
   "source": [
    "special = {1:'hot dog', 2:'bacon', 3:'tacos'}"
   ]
  },
  {
   "cell_type": "code",
   "execution_count": 6,
   "metadata": {},
   "outputs": [
    {
     "data": {
      "text/plain": [
       "'bacon'"
      ]
     },
     "execution_count": 6,
     "metadata": {},
     "output_type": "execute_result"
    }
   ],
   "source": [
    "special[2]"
   ]
  },
  {
   "cell_type": "markdown",
   "metadata": {},
   "source": [
    "But you can’t slice a dictionary like a list."
   ]
  },
  {
   "cell_type": "code",
   "execution_count": 7,
   "metadata": {},
   "outputs": [
    {
     "ename": "TypeError",
     "evalue": "unhashable type: 'slice'",
     "output_type": "error",
     "traceback": [
      "\u001b[0;31m---------------------------------------------------------------------------\u001b[0m",
      "\u001b[0;31mTypeError\u001b[0m                                 Traceback (most recent call last)",
      "\u001b[0;32m<ipython-input-7-3faa2644c2ab>\u001b[0m in \u001b[0;36m<module>\u001b[0;34m()\u001b[0m\n\u001b[0;32m----> 1\u001b[0;31m \u001b[0mspecial\u001b[0m\u001b[0;34m[\u001b[0m\u001b[0;36m1\u001b[0m\u001b[0;34m:\u001b[0m\u001b[0;36m3\u001b[0m\u001b[0;34m]\u001b[0m\u001b[0;34m\u001b[0m\u001b[0m\n\u001b[0m",
      "\u001b[0;31mTypeError\u001b[0m: unhashable type: 'slice'"
     ]
    }
   ],
   "source": [
    "special[1:3]"
   ]
  },
  {
   "cell_type": "markdown",
   "metadata": {},
   "source": [
    "You can add an item to a dictionary by specifying a new key. For example,"
   ]
  },
  {
   "cell_type": "code",
   "execution_count": 8,
   "metadata": {},
   "outputs": [
    {
     "data": {
      "text/plain": [
       "{'dessert': 'ice cream',\n",
       " 'entree': 'mahi mahi',\n",
       " 'salad': 'cobb',\n",
       " 'soup': 'chowder'}"
      ]
     },
     "execution_count": 8,
     "metadata": {},
     "output_type": "execute_result"
    }
   ],
   "source": [
    "dinner['soup'] = 'chowder'\n",
    "dinner"
   ]
  },
  {
   "cell_type": "code",
   "execution_count": 9,
   "metadata": {},
   "outputs": [
    {
     "data": {
      "text/plain": [
       "{1: 'hot dog', 2: 'bacon', 3: 'tacos', 4: 'chili'}"
      ]
     },
     "execution_count": 9,
     "metadata": {},
     "output_type": "execute_result"
    }
   ],
   "source": [
    "special[4] = 'chili'\n",
    "special"
   ]
  },
  {
   "cell_type": "markdown",
   "metadata": {},
   "source": [
    "Finally, you can delete an item from a dictionary using a del statement. For example,"
   ]
  },
  {
   "cell_type": "code",
   "execution_count": 10,
   "metadata": {},
   "outputs": [
    {
     "data": {
      "text/plain": [
       "{'dessert': 'ice cream', 'entree': 'mahi mahi', 'soup': 'chowder'}"
      ]
     },
     "execution_count": 10,
     "metadata": {},
     "output_type": "execute_result"
    }
   ],
   "source": [
    "del dinner['salad']\n",
    "dinner"
   ]
  },
  {
   "cell_type": "markdown",
   "metadata": {},
   "source": [
    "### Exercise\n",
    "1. Create a dictionary **`subject`** with the following key-value combinations.\n",
    "\n",
    "|         |            |\n",
    "|:--      |:--         |\n",
    "|**Key**  |**Value**   |\n",
    "|'age'    |23          |\n",
    "|'hand'   |'right'     |\n",
    "|'glasses'|'yes’       |\n",
    "\n",
    "  * To dictionary `subject`, add a new item with the key `'RT'` and the value `235`.\n",
    "  * From the dictionary `subject`, delete the item `'hand':'right'`."
   ]
  },
  {
   "cell_type": "markdown",
   "metadata": {},
   "source": [
    "# 2. `keys()`, `values()`, and `items()` methods\n",
    "<hr style=\"height:1px;border:none\" />"
   ]
  },
  {
   "cell_type": "markdown",
   "metadata": {},
   "source": [
    "There are methods associated with a dictionary data type. Some of these methods can be used to extract information from a dictionary.\n",
    "\n",
    "### `keys()` method\n",
    "\n",
    "If you are only interested in keys in a dictionary, you can use the **`keys()`** method. This method returns only the keys from a dictionary. "
   ]
  },
  {
   "cell_type": "code",
   "execution_count": 12,
   "metadata": {},
   "outputs": [
    {
     "data": {
      "text/plain": [
       "dict_keys(['breed', 'color', 'age'])"
      ]
     },
     "execution_count": 12,
     "metadata": {},
     "output_type": "execute_result"
    }
   ],
   "source": [
    "dog = {'breed':'puggle', 'color':'white', 'age':3}\n",
    "dog.keys()"
   ]
  },
  {
   "cell_type": "markdown",
   "metadata": {},
   "source": [
    "If you want to create a list of keys, then you need to use the **`list()`** function."
   ]
  },
  {
   "cell_type": "code",
   "execution_count": 13,
   "metadata": {},
   "outputs": [
    {
     "data": {
      "text/plain": [
       "['breed', 'color', 'age']"
      ]
     },
     "execution_count": 13,
     "metadata": {},
     "output_type": "execute_result"
    }
   ],
   "source": [
    "list(dog.keys())"
   ]
  },
  {
   "cell_type": "markdown",
   "metadata": {},
   "source": [
    "### `values()` method\n",
    "\n",
    "If you are only interested in values in a dictionary, you can use the **`values()`** method. "
   ]
  },
  {
   "cell_type": "code",
   "execution_count": 14,
   "metadata": {},
   "outputs": [
    {
     "data": {
      "text/plain": [
       "dict_values([250, 189, 132])"
      ]
     },
     "execution_count": 14,
     "metadata": {},
     "output_type": "execute_result"
    }
   ],
   "source": [
    "respTime = {'congruent':132, 'incongruent':250, 'mixed':189}\n",
    "respTime.values()"
   ]
  },
  {
   "cell_type": "code",
   "execution_count": 15,
   "metadata": {},
   "outputs": [
    {
     "data": {
      "text/plain": [
       "[250, 189, 132]"
      ]
     },
     "execution_count": 15,
     "metadata": {},
     "output_type": "execute_result"
    }
   ],
   "source": [
    "list(respTime.values())"
   ]
  },
  {
   "cell_type": "markdown",
   "metadata": {},
   "source": [
    "Again, you need a `list()` function to generate a list."
   ]
  },
  {
   "cell_type": "markdown",
   "metadata": {},
   "source": [
    "### `items()` method\n",
    "\n",
    "To get information on both keys and values, you can use the **`items()`** method."
   ]
  },
  {
   "cell_type": "code",
   "execution_count": 16,
   "metadata": {},
   "outputs": [
    {
     "data": {
      "text/plain": [
       "dict_items([('breed', 'puggle'), ('color', 'white'), ('age', 3)])"
      ]
     },
     "execution_count": 16,
     "metadata": {},
     "output_type": "execute_result"
    }
   ],
   "source": [
    "dog = {'breed':'puggle', 'color':'white', 'age':3}\n",
    "dog.items()"
   ]
  },
  {
   "cell_type": "code",
   "execution_count": 17,
   "metadata": {},
   "outputs": [
    {
     "data": {
      "text/plain": [
       "[('breed', 'puggle'), ('color', 'white'), ('age', 3)]"
      ]
     },
     "execution_count": 17,
     "metadata": {},
     "output_type": "execute_result"
    }
   ],
   "source": [
    "list(dog.items())"
   ]
  },
  {
   "cell_type": "markdown",
   "metadata": {},
   "source": [
    "You can use a `list()` function to convert the output to a list. However, the list is a collection of **tuples**. A *tuple* is a data type that is similar to a list, but denoted by parentheses `()` instead of square brackets `[]`."
   ]
  },
  {
   "cell_type": "code",
   "execution_count": 18,
   "metadata": {},
   "outputs": [
    {
     "data": {
      "text/plain": [
       "('breed', 'puggle')"
      ]
     },
     "execution_count": 18,
     "metadata": {},
     "output_type": "execute_result"
    }
   ],
   "source": [
    "list(dog.items())[0]"
   ]
  },
  {
   "cell_type": "markdown",
   "metadata": {},
   "source": [
    "### Dictionaries and for loop\n",
    "\n",
    "You can use dictionaries for a `for` loop just like using a list for a `for` loop. You can use the keys only."
   ]
  },
  {
   "cell_type": "markdown",
   "metadata": {},
   "source": [
    "`<forLoopKeys.py>`"
   ]
  },
  {
   "cell_type": "code",
   "execution_count": 20,
   "metadata": {},
   "outputs": [
    {
     "name": "stdout",
     "output_type": "stream",
     "text": [
      "Condition: incongruent\n",
      "Condition: mixed\n",
      "Condition: congruent\n"
     ]
    }
   ],
   "source": [
    "respTime = {'congruent':132, 'incongruent':250, 'mixed':189}\n",
    "for iKey in respTime.keys():\n",
    "    print('Condition: ' + iKey)"
   ]
  },
  {
   "cell_type": "markdown",
   "metadata": {},
   "source": [
    "Or you can use the values only."
   ]
  },
  {
   "cell_type": "markdown",
   "metadata": {},
   "source": [
    "`<forLoopValues.py>`"
   ]
  },
  {
   "cell_type": "code",
   "execution_count": 22,
   "metadata": {},
   "outputs": [
    {
     "name": "stdout",
     "output_type": "stream",
     "text": [
      "Repsponse times:\n",
      "250\n",
      "189\n",
      "132\n"
     ]
    }
   ],
   "source": [
    "respTime = {'congruent':132, 'incongruent':250, 'mixed':189}\n",
    "print('Repsponse times:')\n",
    "for iValue in respTime.values():\n",
    "    print(iValue)"
   ]
  },
  {
   "cell_type": "markdown",
   "metadata": {},
   "source": [
    "You may notice that the order of items is not the same as the order when the dictionary is initially defined. Unlike a list, a dictionary does not have particular ordering of items.\n",
    "\n",
    "To keep both keys and values together, you can use the **`item()`** method for a for loop as well. "
   ]
  },
  {
   "cell_type": "markdown",
   "metadata": {},
   "source": [
    "`<forLoopItems.py>`"
   ]
  },
  {
   "cell_type": "code",
   "execution_count": 24,
   "metadata": {},
   "outputs": [
    {
     "name": "stdout",
     "output_type": "stream",
     "text": [
      "Repsponse times:\n",
      "250 (incongruent)\n",
      "189 (mixed)\n",
      "132 (congruent)\n"
     ]
    }
   ],
   "source": [
    "respTime = {'congruent':132, 'incongruent':250, 'mixed':189}\n",
    "print('Repsponse times:')\n",
    "for iKey, iValue in respTime.items():\n",
    "    print(str(iValue) + ' (' + iKey + ')')"
   ]
  },
  {
   "cell_type": "markdown",
   "metadata": {},
   "source": [
    "### Exercise\n",
    "You have a dictionary called **`washer`** with the following items indicating the amount of time required for different cycles:\n",
    "```python\n",
    "washer = {'soak':10, 'wash':20, 'rinse':12, 'spin':6}\n",
    "```\n",
    "1. **Cycles**. Write a program to print out a list of different cycles using the `keys()` method.\n",
    "2. **Total time**. Write a program to calculate the total time required to complete all the cycles.\n",
    "3. **Time per cycle**. Write a program to print out a list of different cycles and the amount of time required for each cycle."
   ]
  },
  {
   "cell_type": "markdown",
   "metadata": {},
   "source": [
    "# 2. Application\n",
    "<hr style=\"height:1px;border:none\" />"
   ]
  },
  {
   "cell_type": "markdown",
   "metadata": {},
   "source": [
    "Here is an application to organize a birthday list. You create a dictionary of birthdays. Then you can retrieve information from the dictionary, or add more birthdays to the dictionary."
   ]
  },
  {
   "cell_type": "markdown",
   "metadata": {},
   "source": [
    "`<Birthdays.py>`"
   ]
  },
  {
   "cell_type": "code",
   "execution_count": null,
   "metadata": {
    "collapsed": true
   },
   "outputs": [],
   "source": [
    "# The initial birthday list\n",
    "birthdays = {'Alice': 'Apr 1', 'Bob': 'Dec 12', 'Carol': 'Mar 4'}\n",
    "\n",
    "while True:\n",
    "    print('Enter a name: (blank to quit)')\n",
    "    name = input()\n",
    "\n",
    "    # if blank, then exit the while loop\n",
    "    if name == '':\n",
    "        break\n",
    "\n",
    "    # if a name on the birthday list is entered\n",
    "    if name in birthdays:\n",
    "        print(birthdays[name] + ' is the birthday of ' + name)\n",
    "    # if a new name is entered\n",
    "    else:\n",
    "        print('I do not have birthday information for ' + name)\n",
    "        print('What is their birthday?')\n",
    "        bday = input()\n",
    "        birthdays[name] = bday\n",
    "        print('Birthday database updated.')"
   ]
  },
  {
   "cell_type": "markdown",
   "metadata": {},
   "source": [
    "After the program finishes running, you can see the updated birthday list.\n",
    "\n",
    "Enter a name: (blank to quit)\n",
    "Dave\n",
    "I do not have birthday information for Dave\n",
    "What is their birthday?\n",
    "Feb 21\n",
    "Birthday database updated.\n",
    "Enter a name: (blank to quit)\n",
    "Emily\n",
    "I do not have birthday information for Emily\n",
    "What is their birthday?\n",
    "Jun 4\n",
    "Birthday database updated.\n",
    "Enter a name: (blank to quit)\n",
    "\n",
    ">>> birthdays\n",
    "{'Emily': 'Jun 4', 'Dave': 'Feb 21', 'Carol': 'Mar 4', 'Bob': 'Dec 12', 'Alice': 'Apr 1'}"
   ]
  }
 ],
 "metadata": {
  "kernelspec": {
   "display_name": "Python 3",
   "language": "python",
   "name": "python3"
  },
  "language_info": {
   "codemirror_mode": {
    "name": "ipython",
    "version": 3
   },
   "file_extension": ".py",
   "mimetype": "text/x-python",
   "name": "python",
   "nbconvert_exporter": "python",
   "pygments_lexer": "ipython3",
   "version": "3.5.1"
  }
 },
 "nbformat": 4,
 "nbformat_minor": 2
}
