{
 "cells": [
  {
   "cell_type": "markdown",
   "metadata": {
    "collapsed": true
   },
   "source": [
    "<p style=\"text-align:center\">\n",
    "PSY 394U <b>Python Coding for Psychological Sciences</b>, Fall 2017\n",
    "\n",
    "<img src=\"https://www.python.org/static/community_logos/python-logo-master-v3-TM.png\" alt=\"Python logo\" width=\"200\">\n",
    "</p>\n",
    "\n",
    "<h1 style=\"text-align:center\"> Comparisons & if statements </h1>\n",
    "\n",
    "<h4 style=\"text-align:center\"> September 7, 2017 </h4>\n",
    "<hr style=\"height:5px;border:none\" />\n",
    "<p>"
   ]
  },
  {
   "cell_type": "markdown",
   "metadata": {},
   "source": [
    "# 1. True or False\n",
    "<hr style=\"height:1px;border:none\" />"
   ]
  },
  {
   "cell_type": "markdown",
   "metadata": {},
   "source": [
    "Two of the reserved keywords in Python are True and False. These keywords are reserved because they describe the result from a logical operation (i.e., whether some statement is true or false). If you type these words, then you notice that the color changes."
   ]
  },
  {
   "cell_type": "code",
   "execution_count": 1,
   "metadata": {},
   "outputs": [
    {
     "data": {
      "text/plain": [
       "True"
      ]
     },
     "execution_count": 1,
     "metadata": {},
     "output_type": "execute_result"
    }
   ],
   "source": [
    "True"
   ]
  },
  {
   "cell_type": "code",
   "execution_count": 2,
   "metadata": {},
   "outputs": [
    {
     "data": {
      "text/plain": [
       "False"
      ]
     },
     "execution_count": 2,
     "metadata": {},
     "output_type": "execute_result"
    }
   ],
   "source": [
    "False"
   ]
  },
  {
   "cell_type": "markdown",
   "metadata": {},
   "source": [
    "Note that these words start with a capital letter, followed by lower case letters."
   ]
  },
  {
   "cell_type": "code",
   "execution_count": 3,
   "metadata": {},
   "outputs": [
    {
     "ename": "NameError",
     "evalue": "name 'TRUE' is not defined",
     "output_type": "error",
     "traceback": [
      "\u001b[0;31m---------------------------------------------------------------------------\u001b[0m",
      "\u001b[0;31mNameError\u001b[0m                                 Traceback (most recent call last)",
      "\u001b[0;32m<ipython-input-3-1159184937f1>\u001b[0m in \u001b[0;36m<module>\u001b[0;34m()\u001b[0m\n\u001b[0;32m----> 1\u001b[0;31m \u001b[0mTRUE\u001b[0m\u001b[0;34m\u001b[0m\u001b[0m\n\u001b[0m",
      "\u001b[0;31mNameError\u001b[0m: name 'TRUE' is not defined"
     ]
    }
   ],
   "source": [
    "TRUE"
   ]
  },
  {
   "cell_type": "code",
   "execution_count": 4,
   "metadata": {},
   "outputs": [
    {
     "ename": "NameError",
     "evalue": "name 'true' is not defined",
     "output_type": "error",
     "traceback": [
      "\u001b[0;31m---------------------------------------------------------------------------\u001b[0m",
      "\u001b[0;31mNameError\u001b[0m                                 Traceback (most recent call last)",
      "\u001b[0;32m<ipython-input-4-74d9a83219ca>\u001b[0m in \u001b[0;36m<module>\u001b[0;34m()\u001b[0m\n\u001b[0;32m----> 1\u001b[0;31m \u001b[0mtrue\u001b[0m\u001b[0;34m\u001b[0m\u001b[0m\n\u001b[0m",
      "\u001b[0;31mNameError\u001b[0m: name 'true' is not defined"
     ]
    }
   ],
   "source": [
    "true"
   ]
  },
  {
   "cell_type": "markdown",
   "metadata": {},
   "source": [
    "# 2. Comparison operators\n",
    "<hr style=\"height:1px;border:none\" />"
   ]
  },
  {
   "cell_type": "markdown",
   "metadata": {},
   "source": [
    "True and False are often outcome from logical statement, comparing quantities. Try this."
   ]
  },
  {
   "cell_type": "code",
   "execution_count": 5,
   "metadata": {
    "collapsed": true
   },
   "outputs": [],
   "source": [
    "age = 23"
   ]
  },
  {
   "cell_type": "markdown",
   "metadata": {},
   "source": [
    "This statement sets the variable age as 23. Then,"
   ]
  },
  {
   "cell_type": "code",
   "execution_count": 6,
   "metadata": {},
   "outputs": [
    {
     "data": {
      "text/plain": [
       "False"
      ]
     },
     "execution_count": 6,
     "metadata": {},
     "output_type": "execute_result"
    }
   ],
   "source": [
    "age == 29"
   ]
  },
  {
   "cell_type": "code",
   "execution_count": 7,
   "metadata": {},
   "outputs": [
    {
     "data": {
      "text/plain": [
       "True"
      ]
     },
     "execution_count": 7,
     "metadata": {},
     "output_type": "execute_result"
    }
   ],
   "source": [
    "age == 23"
   ]
  },
  {
   "cell_type": "markdown",
   "metadata": {},
   "source": [
    "Here, we use two equal signs (i.e., **`==`**) as comparison operators. In the first statement, we examine whether age equals 29. In the second statement, we examine whether age equals 23. You can use the `==` operator for numbers and strings. For example,"
   ]
  },
  {
   "cell_type": "code",
   "execution_count": 8,
   "metadata": {
    "collapsed": true
   },
   "outputs": [],
   "source": [
    "animal = 'cat'"
   ]
  },
  {
   "cell_type": "code",
   "execution_count": 9,
   "metadata": {},
   "outputs": [
    {
     "data": {
      "text/plain": [
       "False"
      ]
     },
     "execution_count": 9,
     "metadata": {},
     "output_type": "execute_result"
    }
   ],
   "source": [
    "animal == 'dog'"
   ]
  },
  {
   "cell_type": "code",
   "execution_count": 10,
   "metadata": {},
   "outputs": [
    {
     "data": {
      "text/plain": [
       "False"
      ]
     },
     "execution_count": 10,
     "metadata": {},
     "output_type": "execute_result"
    }
   ],
   "source": [
    "animal == 'horse'"
   ]
  },
  {
   "cell_type": "code",
   "execution_count": 11,
   "metadata": {},
   "outputs": [
    {
     "data": {
      "text/plain": [
       "True"
      ]
     },
     "execution_count": 11,
     "metadata": {},
     "output_type": "execute_result"
    }
   ],
   "source": [
    "animal == 'cat'"
   ]
  },
  {
   "cell_type": "markdown",
   "metadata": {},
   "source": [
    "There are other comparison operators, besides ==. Here are the ones you will likely use in your programs.\n",
    "  * **`==`**: equal to\n",
    "  * **`!=`**: not equal to\n",
    "  * **`<`**: less than\n",
    "  * **`>`**: greater than\n",
    "  * **`<=`**: less than or equal to\n",
    "  * **`>=`**: greater than or equal to"
   ]
  },
  {
   "cell_type": "markdown",
   "metadata": {},
   "source": [
    "Here are examples of comparison operators."
   ]
  },
  {
   "cell_type": "code",
   "execution_count": 13,
   "metadata": {},
   "outputs": [
    {
     "data": {
      "text/plain": [
       "True"
      ]
     },
     "execution_count": 13,
     "metadata": {},
     "output_type": "execute_result"
    }
   ],
   "source": [
    "food = 'bread'\n",
    "food != 'beans'"
   ]
  },
  {
   "cell_type": "markdown",
   "metadata": {},
   "source": [
    "(examining if the variable `food` is NOT 'beans')"
   ]
  },
  {
   "cell_type": "code",
   "execution_count": 14,
   "metadata": {},
   "outputs": [
    {
     "data": {
      "text/plain": [
       "True"
      ]
     },
     "execution_count": 14,
     "metadata": {},
     "output_type": "execute_result"
    }
   ],
   "source": [
    "age = 23\n",
    "age >= 21"
   ]
  },
  {
   "cell_type": "markdown",
   "metadata": {},
   "source": [
    "(examining if the variable `age` is greater than or equal to 21)"
   ]
  },
  {
   "cell_type": "code",
   "execution_count": 15,
   "metadata": {},
   "outputs": [
    {
     "data": {
      "text/plain": [
       "True"
      ]
     },
     "execution_count": 15,
     "metadata": {},
     "output_type": "execute_result"
    }
   ],
   "source": [
    "age < 65"
   ]
  },
  {
   "cell_type": "markdown",
   "metadata": {},
   "source": [
    "(examining if the variable `age` is less than 65)"
   ]
  },
  {
   "cell_type": "code",
   "execution_count": 16,
   "metadata": {},
   "outputs": [
    {
     "data": {
      "text/plain": [
       "False"
      ]
     },
     "execution_count": 16,
     "metadata": {},
     "output_type": "execute_result"
    }
   ],
   "source": [
    "seniorDiscount = 65\n",
    "age >= seniorDiscount"
   ]
  },
  {
   "cell_type": "markdown",
   "metadata": {},
   "source": [
    "(examining whether the variable `age` is greater than or equal to the variable `seniorDiscount`)"
   ]
  },
  {
   "cell_type": "markdown",
   "metadata": {},
   "source": [
    "### Exercise\n",
    "Create the following variables:\n",
    "```python\n",
    "diameter = 3.6\n",
    "street = 'Speedway'\n",
    "RT_Pre = 130\n",
    "RT_Post = 500\n",
    "mpg = 20.3\n",
    "myName = '[fill in your name]'\n",
    "```\n",
    "\n",
    "Then write the following comparisons using the comparison operators we just learned.\n",
    "  1. If the variable **`diameter`** is greater than 6.5\n",
    "  2. If the variable **`street`** is NOT equal to 'Dean Keeton'\n",
    "  3. If the variable **`RT_Pre`** is smaller than 250\n",
    "  4. If the variable **`RT_Post`** is greater than 500\n",
    "  5. If the variable **`mpg`** is greater or equal to 25.5\n",
    "  6. If the variable **`myName`** is equal to 'Hayasaka'\n",
    "\n",
    "What are the outcomes (True or False)?\n"
   ]
  },
  {
   "cell_type": "markdown",
   "metadata": {},
   "source": [
    "# 3. Boolean operators\n",
    "<hr style=\"height:1px;border:none\" />"
   ]
  },
  {
   "cell_type": "markdown",
   "metadata": {},
   "source": [
    "It is often the case that you want to evaluate multiple conditions together. Useful to such scenarios are **Boolean** operators, a type of logic operators evaluating multiple conditions together. Here, we focus on the and, or, and not operators.  "
   ]
  },
  {
   "cell_type": "markdown",
   "metadata": {},
   "source": [
    "### Satisfying all conditions (**`and`** operator)\n",
    "Let’s say, in your study, you want subjects who are 18 years or older and right-handed. Suppose you have these variables:\n",
    "\n",
    "  * **`age`**: Subject’s age\n",
    "  * **`hand`**:\tSubject’s handedness (either 'right' or 'left')\n",
    "\n",
    "To evaluate both conditions together, you can use the **`and`** operator."
   ]
  },
  {
   "cell_type": "code",
   "execution_count": 17,
   "metadata": {
    "collapsed": true
   },
   "outputs": [],
   "source": [
    "age = 23\n",
    "hand = 'right'"
   ]
  },
  {
   "cell_type": "code",
   "execution_count": 19,
   "metadata": {},
   "outputs": [
    {
     "data": {
      "text/plain": [
       "True"
      ]
     },
     "execution_count": 19,
     "metadata": {},
     "output_type": "execute_result"
    }
   ],
   "source": [
    "age>=18 and hand=='right'"
   ]
  },
  {
   "cell_type": "markdown",
   "metadata": {},
   "source": [
    "For the sake of readability, you can write this as"
   ]
  },
  {
   "cell_type": "code",
   "execution_count": 20,
   "metadata": {},
   "outputs": [
    {
     "data": {
      "text/plain": [
       "True"
      ]
     },
     "execution_count": 20,
     "metadata": {},
     "output_type": "execute_result"
    }
   ],
   "source": [
    "(age>=18) and (hand=='right')"
   ]
  },
  {
   "cell_type": "markdown",
   "metadata": {},
   "source": [
    "If either of these conditions is not met, then this combined condition returns `False`."
   ]
  },
  {
   "cell_type": "markdown",
   "metadata": {},
   "source": [
    "### Exercise\n",
    "Assume you have the variables `age` and `hand` defined as above. Write a combined condition to identify the following:\n",
    "  1. Left-handed subjects, 21 years or older\n",
    "  2. Left-handed subjects, younger than 65 years\n",
    "  3. Subjects with age between 18 and 64"
   ]
  },
  {
   "cell_type": "markdown",
   "metadata": {},
   "source": [
    "### Satisfying either condition (**`or`** operator)\n",
    "Let’s say, in your study, you want to identify subjects who are substance users. You want to identify subjects who drink alcohol, smoke tobacco, or use marijuana. Assume you have these variables:\n",
    "\n",
    "  - **`drink`**: The subject drinks alcohol ('yes' or 'no')\n",
    "  - **`smoke`**: The subject smokes tobacco ('yes' or 'no')\n",
    "  - **`marijuana`**: The subject uses marijuana ('yes' or 'no')\n",
    "\n",
    "Then you want to identify a subject who answers 'yes' to any of these questions. To evaluate whether either of conditions is satisfied, you can use the **`or`** operator. "
   ]
  },
  {
   "cell_type": "code",
   "execution_count": 21,
   "metadata": {},
   "outputs": [
    {
     "data": {
      "text/plain": [
       "True"
      ]
     },
     "execution_count": 21,
     "metadata": {},
     "output_type": "execute_result"
    }
   ],
   "source": [
    "drink='yes'\n",
    "smoke='no'\n",
    "marijuana='no'\n",
    "drink=='yes' or smoke=='yes' or marijuana=='yes'"
   ]
  },
  {
   "cell_type": "markdown",
   "metadata": {},
   "source": [
    "Or if you are interested in drinking and smoking, you can say"
   ]
  },
  {
   "cell_type": "code",
   "execution_count": 22,
   "metadata": {},
   "outputs": [
    {
     "data": {
      "text/plain": [
       "True"
      ]
     },
     "execution_count": 22,
     "metadata": {},
     "output_type": "execute_result"
    }
   ],
   "source": [
    "(drink=='yes') or (smoke=='yes')"
   ]
  },
  {
   "cell_type": "markdown",
   "metadata": {},
   "source": [
    "Only when all conditions are False, then the combined condition returns False. "
   ]
  },
  {
   "cell_type": "code",
   "execution_count": 24,
   "metadata": {},
   "outputs": [
    {
     "data": {
      "text/plain": [
       "False"
      ]
     },
     "execution_count": 24,
     "metadata": {},
     "output_type": "execute_result"
    }
   ],
   "source": [
    "drink='no'\n",
    "smoke='no'\n",
    "marijuana='no'\n",
    "drink=='yes' or smoke=='yes' or marijuana=='yes'"
   ]
  },
  {
   "cell_type": "markdown",
   "metadata": {},
   "source": [
    "### Not satisfying a condition (`not` operator)\n",
    "A **`not`** operator can be used to negate a condition. For example,"
   ]
  },
  {
   "cell_type": "code",
   "execution_count": 25,
   "metadata": {},
   "outputs": [
    {
     "data": {
      "text/plain": [
       "False"
      ]
     },
     "execution_count": 25,
     "metadata": {},
     "output_type": "execute_result"
    }
   ],
   "source": [
    "state='MA'\n",
    "state=='TX'"
   ]
  },
  {
   "cell_type": "code",
   "execution_count": 26,
   "metadata": {},
   "outputs": [
    {
     "data": {
      "text/plain": [
       "True"
      ]
     },
     "execution_count": 26,
     "metadata": {},
     "output_type": "execute_result"
    }
   ],
   "source": [
    "not state=='TX'"
   ]
  },
  {
   "cell_type": "markdown",
   "metadata": {},
   "source": [
    "The `not` operator may not seem very useful since the `!=` operator can produce the same outcome. "
   ]
  },
  {
   "cell_type": "code",
   "execution_count": 27,
   "metadata": {},
   "outputs": [
    {
     "data": {
      "text/plain": [
       "False"
      ]
     },
     "execution_count": 27,
     "metadata": {},
     "output_type": "execute_result"
    }
   ],
   "source": [
    "state!='MA'"
   ]
  },
  {
   "cell_type": "markdown",
   "metadata": {},
   "source": [
    "However, the `not` operator can be useful when combined with other Boolean operators. "
   ]
  },
  {
   "cell_type": "markdown",
   "metadata": {},
   "source": [
    "### Combining Boolean operators\n",
    "You can use multiple Boolean operators (**`and`**, **`or`**, & **`not`**) in a same statement. This is useful when you are interested in a complicated condition. For example,"
   ]
  },
  {
   "cell_type": "code",
   "execution_count": 28,
   "metadata": {},
   "outputs": [
    {
     "data": {
      "text/plain": [
       "True"
      ]
     },
     "execution_count": 28,
     "metadata": {},
     "output_type": "execute_result"
    }
   ],
   "source": [
    "age = 23\n",
    "drink = 'yes'\n",
    "smoke = 'no'\n",
    "marijuana = 'no'\n",
    "(age > 19) and (drink=='yes' or smoke=='yes' or marijuana=='yes')"
   ]
  },
  {
   "cell_type": "markdown",
   "metadata": {},
   "source": [
    "This statement evaluates whether a subject is older than 19 years and uses any substance (alcohol, tobacco, or marijuana). Or, "
   ]
  },
  {
   "cell_type": "code",
   "execution_count": 29,
   "metadata": {},
   "outputs": [
    {
     "data": {
      "text/plain": [
       "True"
      ]
     },
     "execution_count": 29,
     "metadata": {},
     "output_type": "execute_result"
    }
   ],
   "source": [
    "(age > 19) and not (drink=='no' and smoke=='no' and marijuana=='no')"
   ]
  },
  {
   "cell_type": "markdown",
   "metadata": {},
   "source": [
    "This statement evaluates whether a subject is older than 19 years and not a substance user. \n",
    "\n",
    "Like mathematical operators, Boolean operators have orders. Boolean operations are done in the following order\n",
    "\n",
    "  * Pathentheses **`()`**\n",
    "  * **`not`**\n",
    "  * **`and`**\n",
    "  * **`or`**\n",
    "\n",
    "Notice the difference:"
   ]
  },
  {
   "cell_type": "code",
   "execution_count": 30,
   "metadata": {},
   "outputs": [
    {
     "data": {
      "text/plain": [
       "True"
      ]
     },
     "execution_count": 30,
     "metadata": {},
     "output_type": "execute_result"
    }
   ],
   "source": [
    "age < 20 and smoke=='yes' or drink=='yes'"
   ]
  },
  {
   "cell_type": "code",
   "execution_count": 31,
   "metadata": {},
   "outputs": [
    {
     "data": {
      "text/plain": [
       "False"
      ]
     },
     "execution_count": 31,
     "metadata": {},
     "output_type": "execute_result"
    }
   ],
   "source": [
    "age < 20 and (smoke=='yes' or drink=='yes')"
   ]
  },
  {
   "cell_type": "markdown",
   "metadata": {},
   "source": [
    "### Exercise\n",
    "**Screening subjects**. Assume you have these variables:\n",
    "```python\n",
    "age = 33\t\t\t# age\n",
    "smoke = 'yes'\t\t# tobacco user (yes or no)\n",
    "marijuana = 'no' \t# marijuana user (yes or no)\n",
    "hand = 'right'\t\t# handedness (left or right)\n",
    "respTime = 350\t\t# response time (in ms)\n",
    "```\n",
    "Then write expressions to evaluate whether the subject meets the following inclusion criteria for a study:\n",
    "  1. Right-handed non-smokers.\n",
    "  2. Teenagers who use tobacco or marijuana.\n",
    "  3. Adults 21 years or older, and the response time is less than 500ms.\n",
    "  4. Older adults (65 years or older) whose response time is greater than 500ms\n",
    "  5. Left-handed older adults (65 years or older) who smoke tobacco.\n"
   ]
  }
 ],
 "metadata": {
  "kernelspec": {
   "display_name": "Python 3",
   "language": "python",
   "name": "python3"
  },
  "language_info": {
   "codemirror_mode": {
    "name": "ipython",
    "version": 3
   },
   "file_extension": ".py",
   "mimetype": "text/x-python",
   "name": "python",
   "nbconvert_exporter": "python",
   "pygments_lexer": "ipython3",
   "version": "3.5.1"
  }
 },
 "nbformat": 4,
 "nbformat_minor": 2
}
