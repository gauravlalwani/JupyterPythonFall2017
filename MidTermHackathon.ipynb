{
 "cells": [
  {
   "cell_type": "markdown",
   "metadata": {},
   "source": [
    "<p style=\"text-align:center\">\n",
    "PSY 394U <b>Python Coding for Psychological Sciences</b>, Fall 2017\n",
    "\n",
    "<img src=\"https://www.python.org/static/community_logos/python-logo-master-v3-TM.png\" alt=\"Python logo\" width=\"200\">\n",
    "</p>\n",
    "\n",
    "<h1 style=\"text-align:center\"> Mid-Term Mini-Hackathon </h1>\n",
    "\n",
    "<h4 style=\"text-align:center\"> October 24 `&` 26, 2017 </h4>\n",
    "<hr style=\"height:5px;border:none\" />\n",
    "<p>"
   ]
  },
  {
   "cell_type": "markdown",
   "metadata": {},
   "source": [
    "# 1. Overview\n",
    "<hr style=\"height:1px;border:none\" />"
   ]
  },
  {
   "cell_type": "markdown",
   "metadata": {},
   "source": [
    "A mini-hackathon is a group programming project by a team of 2-4 students. Two class periods will be devoted for each mini-hackathon. Students will be given a list of problems to be addressed prior to a mini-hackathon, and each student will choose a topic of interest. Those selecting the same topic will be organized into a team. The size of each team will be 2-4 students; if there are any uneven distribution distributions of students, the instructor will merge / split teams into appropriate sizes."
   ]
  },
  {
   "cell_type": "markdown",
   "metadata": {},
   "source": [
    "# 2. Problems and teams\n",
    "<hr style=\"height:1px;border:none\" />"
   ]
  },
  {
   "cell_type": "markdown",
   "metadata": {},
   "source": [
    "## Problems\n",
    "There are 5 problems to be addressed during the hackathon. Each student may choose one of the problems he/she may be interested. These are the problems:\n",
    "\n",
    "  1. **Brute-force password cracking** [Short summary]\n",
    "  2. **Pig-Latin translator** [Short summary]\n",
    "  3. **Problem 3** [Short summary]\n",
    "  4. **Problem 4** [Short summary]\n",
    "  5. **Problem 5** [Short summary]\n",
    "  \n",
    "Details of each problem will be given at the beginning of the hackathon.\n",
    " "
   ]
  }
 ],
 "metadata": {
  "kernelspec": {
   "display_name": "Python 3",
   "language": "python",
   "name": "python3"
  },
  "language_info": {
   "codemirror_mode": {
    "name": "ipython",
    "version": 3
   },
   "file_extension": ".py",
   "mimetype": "text/x-python",
   "name": "python",
   "nbconvert_exporter": "python",
   "pygments_lexer": "ipython3",
   "version": "3.5.1"
  }
 },
 "nbformat": 4,
 "nbformat_minor": 2
}
