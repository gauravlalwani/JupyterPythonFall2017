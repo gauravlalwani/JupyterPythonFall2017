{
 "cells": [
  {
   "cell_type": "markdown",
   "metadata": {},
   "source": [
    "<p style=\"text-align:center\">\n",
    "PSY 394U <b>Python Coding for Psychological Sciences</b>, Fall 2017\n",
    "\n",
    "<img src=\"https://www.python.org/static/community_logos/python-logo-master-v3-TM.png\" alt=\"Python logo\" width=\"200\">\n",
    "</p>\n",
    "\n",
    "<h1 style=\"text-align:center\"> Mid-Term Mini-Hackathon </h1>\n",
    "\n",
    "<h4 style=\"text-align:center\"> October 24 `&` 26, 2017 </h4>\n",
    "<hr style=\"height:5px;border:none\" />\n",
    "<p>"
   ]
  },
  {
   "cell_type": "markdown",
   "metadata": {},
   "source": [
    "# 1. Overview\n",
    "<hr style=\"height:1px;border:none\" />"
   ]
  },
  {
   "cell_type": "markdown",
   "metadata": {},
   "source": [
    "A mini-hackathon is a group programming project by a team of 2-4 students. Two class periods will be devoted for each mini-hackathon. Students will be given a list of problems to be addressed prior to a mini-hackathon, and each student will choose a topic of interest. Those selecting the same topic will be organized into a team. The size of each team will be 2-4 students; if there are any uneven distribution distributions of students, the instructor will merge / split teams into appropriate sizes. The teams will then work on the problem they are assigned during the Day 1 of the hackathon. On the Day 2 of the hackathon, each team will demonstrate their code in a brief group presentation."
   ]
  },
  {
   "cell_type": "markdown",
   "metadata": {},
   "source": [
    "# 2. Problems and teams\n",
    "<hr style=\"height:1px;border:none\" />"
   ]
  },
  {
   "cell_type": "markdown",
   "metadata": {},
   "source": [
    "## Problems\n",
    "There are 5 problems to be addressed during the hackathon. Each student may choose one of the problems he/she may be interested. These are the problems:\n",
    "\n",
    "  1. **Brute-force password cracking** Students will attempt to crack passwords by generating all possible combinations of letters and numbers, and try them one by one.\n",
    "  2. **Pig-Latin translator** Students will write a program that translates a simple English text into Pig-Latin.\n",
    "  3. **Roman numeral converter** Students will code algorithms to convert a number into a Roman numeral, and vice versa.\n",
    "  4. **Word frequency counter** Students will write a program to count the number of occurrences of different words in a long text.\n",
    "  5. **Lucky tickets** In a certain city, the serial number printed on a public transportation ticket is considered *lucky* if it meets certain criteria. Students will write a program to list all possible luck ticket numbers.\n",
    "  \n",
    "Details of each problem will be given at the beginning of the hackathon.\n",
    "\n",
    "## Signing up\n",
    "Each student can choose one of the problems they are interested in working on. They can do so on a Doodle site at https://doodle.com/poll/qriaczq5mby8chmf. You have until 2pm on October 24th to sign up. If you do not sign up, you will be assigned to a team based on the instructor's discretion.\n",
    "\n",
    "## Teams\n",
    "Team assignments will be determined based on the Doodle poll. Each team should have at least 2 students and no more than 4 students. If there are teams with too few or too many students, then the instructor will re-assign students. Although the students' preference will be taken into consideration, the final team assignment will be determined by the instructor. The team assignment will be presented at the beginning of the hackathon."
   ]
  },
  {
   "cell_type": "markdown",
   "metadata": {},
   "source": [
    "# 3. Mid-term Mini-Hackathon, Day 1 (10/24)\n",
    "<hr style=\"height:1px;border:none\" />"
   ]
  },
  {
   "cell_type": "markdown",
   "metadata": {},
   "source": [
    "The final team assignment will be released. Each team will receive details relating to the problem they will work on. Then each team will start working together to generate a code to solve the problem they have been given. Please note that *this is a group project.* Although one member of the team may act as a scribe to write a Python program, I expect each member of the team to contribute to the solution of the problem. The entire class period of Day 1 will be dedicated to coding. The instructor will be available during that time to answer any questions."
   ]
  },
  {
   "cell_type": "markdown",
   "metadata": {},
   "source": [
    "# 4. Between Day 1 and Day 2\n",
    "<hr style=\"height:1px;border:none\" />"
   ]
  },
  {
   "cell_type": "markdown",
   "metadata": {},
   "source": [
    "If students cannot finish coding during Day 1, they may meet and work together between Day 1 and Day 2. I want to re-emphasize that this is a group project, so everybody should be contributing to the solution!"
   ]
  },
  {
   "cell_type": "markdown",
   "metadata": {},
   "source": [
    "# 5. Mid-term Mini-Hackathon, Day 2 (10/26)\n",
    "<hr style=\"height:1px;border:none\" />"
   ]
  },
  {
   "cell_type": "markdown",
   "metadata": {},
   "source": [
    "During the first 30 min of the class period, students can go over their results and plan the presentation. \n",
    "\n",
    "Each team will give a short presentation (up to 10 min) to the class. In the presentation, each team should describe briefly their problem. Then they should explain their solution briefly, and demonstrate their code and its functionality. Each presentation should also tell how each member of the team contributed to the solution  and the presentation. \n",
    "\n",
    "At the end of Day 2, each team submit their code on Canvas. One person from a team can submit the code on the team's behalf."
   ]
  },
  {
   "cell_type": "markdown",
   "metadata": {},
   "source": [
    "# 6. Grading\n",
    "<hr style=\"height:1px;border:none\" />"
   ]
  },
  {
   "cell_type": "markdown",
   "metadata": {},
   "source": [
    "Each team will be graded with the following criteria:\n",
    "  1. **Code (10 points)**: Each team's code will be graded in a similar manner as homework assignments.\n",
    "  2. **Presentation (4 points)**: The instructor will evaluate if the presentation describes required information: the problem, the solution, and the code.\n",
    "  \n",
    "All the team members will be given the same grade."
   ]
  }
 ],
 "metadata": {
  "kernelspec": {
   "display_name": "Python 3",
   "language": "python",
   "name": "python3"
  },
  "language_info": {
   "codemirror_mode": {
    "name": "ipython",
    "version": 3
   },
   "file_extension": ".py",
   "mimetype": "text/x-python",
   "name": "python",
   "nbconvert_exporter": "python",
   "pygments_lexer": "ipython3",
   "version": "3.4.5"
  }
 },
 "nbformat": 4,
 "nbformat_minor": 2
}
