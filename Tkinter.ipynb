{
 "cells": [
  {
   "cell_type": "markdown",
   "metadata": {},
   "source": [
    "<p style=\"text-align:center\">\n",
    "PSY 394U <b>Python Coding for Psychological Sciences</b>, Fall 2017\n",
    "\n",
    "<img src=\"https://www.python.org/static/community_logos/python-logo-master-v3-TM.png\" alt=\"Python logo\" width=\"200\">\n",
    "</p>\n",
    "\n",
    "<h1 style=\"text-align:center\"> GUIs with Tkinter </h1>\n",
    "\n",
    "<h4 style=\"text-align:center\"> November 28 - 30, 2017 </h4>\n",
    "<hr style=\"height:5px;border:none\" />\n",
    "<p>"
   ]
  },
  {
   "cell_type": "markdown",
   "metadata": {},
   "source": [
    "# 1. What is a GUI? What is Tkinter?\n",
    "<hr style=\"height:1px;border:none\" />"
   ]
  },
  {
   "cell_type": "markdown",
   "metadata": {},
   "source": [
    "A ***GUI***, or graphical user interface, enables users to interact with a program using\n",
    "graphical icons, indicators, buttons, and windows. A GUI appears more user\n",
    "friendly than typing in a command from a keyboard."
   ]
  },
  {
   "cell_type": "markdown",
   "metadata": {},
   "source": [
    "`<SimpleGUIExample.py>`"
   ]
  },
  {
   "cell_type": "code",
   "execution_count": null,
   "metadata": {},
   "outputs": [],
   "source": [
    "from tkinter import Tk, simpledialog\n",
    "\n",
    "# first, data entry via keyboard\n",
    "print('What is your name?')\n",
    "userName = input()\n",
    "print('Your name is ' + userName + '.')"
   ]
  },
  {
   "cell_type": "code",
   "execution_count": null,
   "metadata": {},
   "outputs": [],
   "source": [
    "# next, with a simple GUI\n",
    "# first, some preparation\n",
    "root = Tk()\n",
    "root.withdraw()\n",
    "root.update()\n",
    "guiInput = simpledialog.askstring('Name entry','What is your name?')\n",
    "print('Your name is ' + guiInput + '.')"
   ]
  },
  {
   "cell_type": "markdown",
   "metadata": {},
   "source": [
    "<p style=\"text-align:left\">\n",
    "<img src=\"https://github.com/sathayas/JupyterPythonFall2017/blob/master/images/tkinter_SimpleGUI.png?raw=true\" alt=\"Simple GUI\" align=\"left\" style=\"width: 250px;\"/>\n",
    "</p>"
   ]
  },
  {
   "cell_type": "markdown",
   "metadata": {},
   "source": [
    "Python comes with a module called **`Tkinter`** that enables users to write their\n",
    "own GUIs. It is relatively simple to program, and `Tkinter` is probably all you need\n",
    "if you are interested in creating simple GUIs. More professionally looking GUIs\n",
    "requires advanced programming and additional package(s).\n",
    "\n",
    "\n",
    "***NB***: *Tkinter is built upon a software took called `Tk`. Different computers may\n",
    "have different versions of `Tk`, so some of the codes we see today may not run on\n",
    "your computer. If some codes do not run on your computer, you likely need to\n",
    "update software called `Tcl/Tk`.*"
   ]
  },
  {
   "cell_type": "markdown",
   "metadata": {},
   "source": [
    "# 2. Pre-built GUIs in Tkinter\n",
    "<hr style=\"height:1px;border:none\" />"
   ]
  },
  {
   "cell_type": "markdown",
   "metadata": {},
   "source": [
    "There are some basic pre-built GUIs in `Tkinter` for various purposes. These\n",
    "GUIs often has only one functionality (e.g., asking a yes/no question), so you\n",
    "may have to use multiple GUIs in your program.\n",
    "\n",
    "The best way to demonstrate these pre-built GUIs is to show example codes and the resulting GUIs. I will not explain the codes in details; you can probably figure out how to modify these GUIs by editing the codes."
   ]
  },
  {
   "cell_type": "markdown",
   "metadata": {},
   "source": [
    "`<BuiltInGUI.py>`"
   ]
  },
  {
   "cell_type": "code",
   "execution_count": 7,
   "metadata": {
    "collapsed": true
   },
   "outputs": [],
   "source": [
    "# %load ../Codes/tkinterExamples/BuiltInGUI.py\n",
    "from tkinter import Tk, messagebox, simpledialog, filedialog\n",
    "\n",
    "# hide main window\n",
    "root = Tk()\n",
    "root.withdraw()\n",
    "root.update()"
   ]
  },
  {
   "cell_type": "markdown",
   "metadata": {},
   "source": [
    "The above is a piece of code you have to run in order to use pre-built GUIs."
   ]
  },
  {
   "cell_type": "markdown",
   "metadata": {},
   "source": [
    "### Printing a message"
   ]
  },
  {
   "cell_type": "code",
   "execution_count": null,
   "metadata": {},
   "outputs": [],
   "source": [
    "result = messagebox.showinfo('Info', 'For your information only')\n",
    "print(result)"
   ]
  },
  {
   "cell_type": "markdown",
   "metadata": {},
   "source": [
    "<p style=\"text-align:left\">\n",
    "<img src=\"https://github.com/sathayas/JupyterPythonFall2017/blob/master/images/tkinter_PrintMessage.png?raw=true\" alt=\"Printing a message\" align=\"left\" style=\"width: 250px;\"/>\n",
    "</p>"
   ]
  },
  {
   "cell_type": "markdown",
   "metadata": {},
   "source": [
    "### Yes or no question"
   ]
  },
  {
   "cell_type": "code",
   "execution_count": null,
   "metadata": {},
   "outputs": [],
   "source": [
    "result = messagebox.askyesno('Yes or no', 'What is your answer?')\n",
    "print(result)"
   ]
  },
  {
   "cell_type": "markdown",
   "metadata": {},
   "source": [
    "<p style=\"text-align:left\">\n",
    "<img src=\"https://github.com/sathayas/JupyterPythonFall2017/blob/master/images/tkinter_YesNo.png?raw=true\" alt=\"Yes or no question\" align=\"left\" style=\"width: 250px;\"/>\n",
    "</p>"
   ]
  },
  {
   "cell_type": "code",
   "execution_count": null,
   "metadata": {
    "collapsed": true
   },
   "outputs": [],
   "source": [
    "result = simpledialog.askstring(\"Password\",\"What's the password?\")\n",
    "print(result)"
   ]
  },
  {
   "cell_type": "code",
   "execution_count": null,
   "metadata": {
    "collapsed": true
   },
   "outputs": [],
   "source": [
    "result = simpledialog.askinteger('Ask age','How old are you?')\n",
    "print(result)\n",
    "\n",
    "result = simpledialog.askfloat('GPA','What is your GPA?')\n",
    "print(result)\n",
    "\n",
    "result = filedialog.askopenfilename()\n",
    "print(result)\n",
    "\n",
    "result = filedialog.asksaveasfilename()\n",
    "print(result)"
   ]
  },
  {
   "cell_type": "code",
   "execution_count": null,
   "metadata": {
    "collapsed": true
   },
   "outputs": [],
   "source": []
  }
 ],
 "metadata": {
  "kernelspec": {
   "display_name": "Python 3",
   "language": "python",
   "name": "python3"
  },
  "language_info": {
   "codemirror_mode": {
    "name": "ipython",
    "version": 3
   },
   "file_extension": ".py",
   "mimetype": "text/x-python",
   "name": "python",
   "nbconvert_exporter": "python",
   "pygments_lexer": "ipython3",
   "version": "3.4.5"
  }
 },
 "nbformat": 4,
 "nbformat_minor": 2
}
